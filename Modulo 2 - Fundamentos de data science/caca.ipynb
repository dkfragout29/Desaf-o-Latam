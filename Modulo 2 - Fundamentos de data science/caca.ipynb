{
 "cells": [
  {
   "cell_type": "code",
   "execution_count": 1,
   "metadata": {},
   "outputs": [],
   "source": [
    "import pandas as pd"
   ]
  },
  {
   "cell_type": "code",
   "execution_count": 1,
   "metadata": {},
   "outputs": [
    {
     "name": "stdout",
     "output_type": "stream",
     "text": [
      "buena buena\n"
     ]
    }
   ],
   "source": [
    "print(\"buena buena\")"
   ]
  },
  {
   "cell_type": "code",
   "execution_count": 2,
   "metadata": {},
   "outputs": [
    {
     "name": "stdout",
     "output_type": "stream",
     "text": [
      "       nombre  altura  peso  edad sexo\n",
      "0        Hugo    1.67    60    23    h\n",
      "1        Paco    1.73    83    25    h\n",
      "2        Luis    1.62    70    28    h\n",
      "3       Diana    1.58    58    21    m\n",
      "4   Francisco    1.86    98    28    h\n",
      "5      Felipe    1.79   100    26    h\n",
      "6     Jacinta    1.69    62    20    m\n",
      "7    Bernardo    1.60    83    31    h\n",
      "8     Marisol    1.60    56    30    m\n",
      "9     Facundo    1.98   112    36    h\n",
      "10   Trinidad    1.72    72    21    m\n",
      "11     Camila    1.63    57    26    m\n",
      "12   Macarena    1.73    68    27    m\n",
      "13      Diego    1.62    78    23    h\n",
      "14    Gonzalo    1.58    67    22    h\n",
      "15  Alejandra    1.86    74    21    m\n",
      "16   Fernando    1.79    93    27    h\n",
      "17   Carolina    1.60    63    28    m\n",
      "18    Vicente    1.98   102    31    h\n",
      "19   Benjamín    1.72    78    36    h\n",
      "20     Gloria    1.58    65    23    m\n"
     ]
    }
   ],
   "source": [
    "df = pd.read_csv('alumnos.csv')\n",
    "print(df)"
   ]
  }
 ],
 "metadata": {
  "kernelspec": {
   "display_name": "base",
   "language": "python",
   "name": "python3"
  },
  "language_info": {
   "codemirror_mode": {
    "name": "ipython",
    "version": 3
   },
   "file_extension": ".py",
   "mimetype": "text/x-python",
   "name": "python",
   "nbconvert_exporter": "python",
   "pygments_lexer": "ipython3",
   "version": "3.8.3"
  },
  "orig_nbformat": 4,
  "vscode": {
   "interpreter": {
    "hash": "820d776940a02930c69820a8cec178404e4e9e60b6116e2717a21913b50566a0"
   }
  }
 },
 "nbformat": 4,
 "nbformat_minor": 2
}
