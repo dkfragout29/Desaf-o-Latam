{
  "cells": [
    {
      "cell_type": "code",
      "execution_count": 1,
      "metadata": {
        "trusted": true
      },
      "outputs": [],
      "source": [
        "import pandas as pd\n",
        "import numpy as np\n",
        "import scipy.stats as stats"
      ]
    },
    {
      "cell_type": "code",
      "execution_count": 1,
      "metadata": {
        "trusted": true
      },
      "outputs": [
        {
          "name": "stdout",
          "output_type": "stream",
          "text": [
            "hola mundo\n"
          ]
        }
      ],
      "source": [
        "print('hola mundo')"
      ]
    },
    {
      "cell_type": "code",
      "execution_count": 2,
      "metadata": {
        "trusted": true
      },
      "outputs": [
        {
          "name": "stdout",
          "output_type": "stream",
          "text": [
            "Hola mundo, esta es mi primera incursión en python\n"
          ]
        }
      ],
      "source": [
        "print('Hola mundo, esta es mi primera incursión en python')"
      ]
    },
    {
      "cell_type": "code",
      "execution_count": 12,
      "metadata": {
        "trusted": true
      },
      "outputs": [],
      "source": [
        "Nombre=['Mauricio', 'Marcelo', 'Matias', 'Fabian']\n",
        "Edad=['29', '32', '36', '24']\n",
        "Actividades_favoritas=['jugar volleyball', 'estar tranquilo en casa con un buen café', 'experimentar con un nuevo juego', 'comerse unos buenos huevardos temprano']\n",
        "Mascota=['Noa', 'Panchita', 'Loca', 'Gatitos']"
      ]
    },
    {
      "cell_type": "code",
      "execution_count": 14,
      "metadata": {
        "trusted": true
      },
      "outputs": [
        {
          "name": "stdout",
          "output_type": "stream",
          "text": [
            "Su nombre es Marcelo\n",
            "Su edad es de 32\n",
            "Su actividad favorita corresponde a estar tranquilo en casa con un buen café\n",
            "Tiene mascota y su nombre es Panchita\n"
          ]
        }
      ],
      "source": [
        "print(f'Su nombre es {Nombre[1]}')\n",
        "print(f'Su edad es de {Edad[1]}')\n",
        "print(f'Su actividad favorita corresponde a {Actividades_favoritas[1]}')\n",
        "print(f'Tiene mascota y su nombre es {Mascota[1]}')"
      ]
    },
    {
      "cell_type": "code",
      "execution_count": 15,
      "metadata": {
        "trusted": true
      },
      "outputs": [
        {
          "name": "stdout",
          "output_type": "stream",
          "text": [
            "Estaba la pájara pinta sentada en el verde limón\n",
            "Mi nombre es Mauricio y tengo 29 anhos\n"
          ]
        }
      ],
      "source": [
        "#a corregir print('Estaba la pájara pinta sentada en el verde limón)\n",
        "print('Estaba la pájara pinta sentada en el verde limón')\n",
        "#a corregir print('Mi nombre es' name 'y tengo' edad, 'anhos')\n",
        "print(f'Mi nombre es {Nombre[0]} y tengo {Edad[0]} anhos')\n"
      ]
    },
    {
      "cell_type": "code",
      "execution_count": 17,
      "metadata": {
        "trusted": true
      },
      "outputs": [
        {
          "name": "stdout",
          "output_type": "stream",
          "text": [
            "Ornitorrinco45\n"
          ]
        }
      ],
      "source": [
        "#a corregir print('Ornitorrinco'+45)\n",
        "print('Ornitorrinco'+'45')"
      ]
    }
  ],
  "metadata": {
    "kernelspec": {
      "display_name": "base",
      "language": "python",
      "name": "python3"
    },
    "language_info": {
      "codemirror_mode": {
        "name": "ipython",
        "version": 3
      },
      "file_extension": ".py",
      "mimetype": "text/x-python",
      "name": "python",
      "nbconvert_exporter": "python",
      "pygments_lexer": "ipython3",
      "version": "3.9.13"
    },
    "vscode": {
      "interpreter": {
        "hash": "27399c2e6482aedf46537f2171a3c2057501532d71ea0fd6e8be4005a90ab592"
      }
    }
  },
  "nbformat": 4,
  "nbformat_minor": 4
}
