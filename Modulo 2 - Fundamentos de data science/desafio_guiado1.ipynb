{
 "cells": [
  {
   "cell_type": "code",
   "execution_count": 18,
   "metadata": {},
   "outputs": [],
   "source": [
    "import pandas as pd\n",
    "import numpy as np \n",
    "\n",
    "# display all the  rows\n",
    "pd.set_option('display.max_rows', None)\n",
    "\n",
    "# display all the  columns\n",
    "pd.set_option('display.max_columns', None)"
   ]
  },
  {
   "cell_type": "code",
   "execution_count": 3,
   "metadata": {},
   "outputs": [
    {
     "name": "stdout",
     "output_type": "stream",
     "text": [
      "     year      month  passengers\n",
      "0    1949    January         112\n",
      "1    1949   February         118\n",
      "2    1949      March         132\n",
      "3    1949      April         129\n",
      "4    1949        May         121\n",
      "..    ...        ...         ...\n",
      "139  1960     August         606\n",
      "140  1960  September         508\n",
      "141  1960    October         461\n",
      "142  1960   November         390\n",
      "143  1960   December         432\n",
      "\n",
      "[144 rows x 3 columns]\n"
     ]
    }
   ],
   "source": [
    "df=pd.read_csv('flights.csv')\n",
    "print(df)"
   ]
  },
  {
   "cell_type": "code",
   "execution_count": 6,
   "metadata": {},
   "outputs": [
    {
     "data": {
      "text/html": [
       "<div>\n",
       "<style scoped>\n",
       "    .dataframe tbody tr th:only-of-type {\n",
       "        vertical-align: middle;\n",
       "    }\n",
       "\n",
       "    .dataframe tbody tr th {\n",
       "        vertical-align: top;\n",
       "    }\n",
       "\n",
       "    .dataframe thead th {\n",
       "        text-align: right;\n",
       "    }\n",
       "</style>\n",
       "<table border=\"1\" class=\"dataframe\">\n",
       "  <thead>\n",
       "    <tr style=\"text-align: right;\">\n",
       "      <th></th>\n",
       "      <th>year</th>\n",
       "      <th>month</th>\n",
       "      <th>passengers</th>\n",
       "    </tr>\n",
       "  </thead>\n",
       "  <tbody>\n",
       "    <tr>\n",
       "      <th>0</th>\n",
       "      <td>1949</td>\n",
       "      <td>January</td>\n",
       "      <td>112</td>\n",
       "    </tr>\n",
       "    <tr>\n",
       "      <th>1</th>\n",
       "      <td>1949</td>\n",
       "      <td>February</td>\n",
       "      <td>118</td>\n",
       "    </tr>\n",
       "    <tr>\n",
       "      <th>2</th>\n",
       "      <td>1949</td>\n",
       "      <td>March</td>\n",
       "      <td>132</td>\n",
       "    </tr>\n",
       "    <tr>\n",
       "      <th>3</th>\n",
       "      <td>1949</td>\n",
       "      <td>April</td>\n",
       "      <td>129</td>\n",
       "    </tr>\n",
       "    <tr>\n",
       "      <th>4</th>\n",
       "      <td>1949</td>\n",
       "      <td>May</td>\n",
       "      <td>121</td>\n",
       "    </tr>\n",
       "  </tbody>\n",
       "</table>\n",
       "</div>"
      ],
      "text/plain": [
       "   year     month  passengers\n",
       "0  1949   January         112\n",
       "1  1949  February         118\n",
       "2  1949     March         132\n",
       "3  1949     April         129\n",
       "4  1949       May         121"
      ]
     },
     "execution_count": 6,
     "metadata": {},
     "output_type": "execute_result"
    }
   ],
   "source": [
    "df.head()"
   ]
  },
  {
   "cell_type": "code",
   "execution_count": 7,
   "metadata": {},
   "outputs": [
    {
     "data": {
      "text/html": [
       "<div>\n",
       "<style scoped>\n",
       "    .dataframe tbody tr th:only-of-type {\n",
       "        vertical-align: middle;\n",
       "    }\n",
       "\n",
       "    .dataframe tbody tr th {\n",
       "        vertical-align: top;\n",
       "    }\n",
       "\n",
       "    .dataframe thead th {\n",
       "        text-align: right;\n",
       "    }\n",
       "</style>\n",
       "<table border=\"1\" class=\"dataframe\">\n",
       "  <thead>\n",
       "    <tr style=\"text-align: right;\">\n",
       "      <th></th>\n",
       "      <th>year</th>\n",
       "      <th>month</th>\n",
       "      <th>passengers</th>\n",
       "    </tr>\n",
       "  </thead>\n",
       "  <tbody>\n",
       "    <tr>\n",
       "      <th>139</th>\n",
       "      <td>1960</td>\n",
       "      <td>August</td>\n",
       "      <td>606</td>\n",
       "    </tr>\n",
       "    <tr>\n",
       "      <th>140</th>\n",
       "      <td>1960</td>\n",
       "      <td>September</td>\n",
       "      <td>508</td>\n",
       "    </tr>\n",
       "    <tr>\n",
       "      <th>141</th>\n",
       "      <td>1960</td>\n",
       "      <td>October</td>\n",
       "      <td>461</td>\n",
       "    </tr>\n",
       "    <tr>\n",
       "      <th>142</th>\n",
       "      <td>1960</td>\n",
       "      <td>November</td>\n",
       "      <td>390</td>\n",
       "    </tr>\n",
       "    <tr>\n",
       "      <th>143</th>\n",
       "      <td>1960</td>\n",
       "      <td>December</td>\n",
       "      <td>432</td>\n",
       "    </tr>\n",
       "  </tbody>\n",
       "</table>\n",
       "</div>"
      ],
      "text/plain": [
       "     year      month  passengers\n",
       "139  1960     August         606\n",
       "140  1960  September         508\n",
       "141  1960    October         461\n",
       "142  1960   November         390\n",
       "143  1960   December         432"
      ]
     },
     "execution_count": 7,
     "metadata": {},
     "output_type": "execute_result"
    }
   ],
   "source": [
    "df.tail()"
   ]
  },
  {
   "cell_type": "code",
   "execution_count": 9,
   "metadata": {},
   "outputs": [
    {
     "data": {
      "text/html": [
       "<div>\n",
       "<style scoped>\n",
       "    .dataframe tbody tr th:only-of-type {\n",
       "        vertical-align: middle;\n",
       "    }\n",
       "\n",
       "    .dataframe tbody tr th {\n",
       "        vertical-align: top;\n",
       "    }\n",
       "\n",
       "    .dataframe thead th {\n",
       "        text-align: right;\n",
       "    }\n",
       "</style>\n",
       "<table border=\"1\" class=\"dataframe\">\n",
       "  <thead>\n",
       "    <tr style=\"text-align: right;\">\n",
       "      <th></th>\n",
       "      <th>year</th>\n",
       "      <th>passengers</th>\n",
       "    </tr>\n",
       "  </thead>\n",
       "  <tbody>\n",
       "    <tr>\n",
       "      <th>count</th>\n",
       "      <td>144.000000</td>\n",
       "      <td>144.000000</td>\n",
       "    </tr>\n",
       "    <tr>\n",
       "      <th>mean</th>\n",
       "      <td>1954.500000</td>\n",
       "      <td>280.298611</td>\n",
       "    </tr>\n",
       "    <tr>\n",
       "      <th>std</th>\n",
       "      <td>3.464102</td>\n",
       "      <td>119.966317</td>\n",
       "    </tr>\n",
       "    <tr>\n",
       "      <th>min</th>\n",
       "      <td>1949.000000</td>\n",
       "      <td>104.000000</td>\n",
       "    </tr>\n",
       "    <tr>\n",
       "      <th>25%</th>\n",
       "      <td>1951.750000</td>\n",
       "      <td>180.000000</td>\n",
       "    </tr>\n",
       "    <tr>\n",
       "      <th>50%</th>\n",
       "      <td>1954.500000</td>\n",
       "      <td>265.500000</td>\n",
       "    </tr>\n",
       "    <tr>\n",
       "      <th>75%</th>\n",
       "      <td>1957.250000</td>\n",
       "      <td>360.500000</td>\n",
       "    </tr>\n",
       "    <tr>\n",
       "      <th>max</th>\n",
       "      <td>1960.000000</td>\n",
       "      <td>622.000000</td>\n",
       "    </tr>\n",
       "  </tbody>\n",
       "</table>\n",
       "</div>"
      ],
      "text/plain": [
       "              year  passengers\n",
       "count   144.000000  144.000000\n",
       "mean   1954.500000  280.298611\n",
       "std       3.464102  119.966317\n",
       "min    1949.000000  104.000000\n",
       "25%    1951.750000  180.000000\n",
       "50%    1954.500000  265.500000\n",
       "75%    1957.250000  360.500000\n",
       "max    1960.000000  622.000000"
      ]
     },
     "execution_count": 9,
     "metadata": {},
     "output_type": "execute_result"
    }
   ],
   "source": [
    "df.describe()"
   ]
  },
  {
   "cell_type": "code",
   "execution_count": 11,
   "metadata": {},
   "outputs": [
    {
     "data": {
      "text/plain": [
       "0      1949\n",
       "1      1949\n",
       "2      1949\n",
       "3      1949\n",
       "4      1949\n",
       "       ... \n",
       "139    1960\n",
       "140    1960\n",
       "141    1960\n",
       "142    1960\n",
       "143    1960\n",
       "Name: year, Length: 144, dtype: int64"
      ]
     },
     "execution_count": 11,
     "metadata": {},
     "output_type": "execute_result"
    }
   ],
   "source": [
    "df['year']"
   ]
  },
  {
   "cell_type": "code",
   "execution_count": 13,
   "metadata": {},
   "outputs": [
    {
     "data": {
      "text/plain": [
       "count     144.000000\n",
       "mean     1954.500000\n",
       "std         3.464102\n",
       "min      1949.000000\n",
       "25%      1951.750000\n",
       "50%      1954.500000\n",
       "75%      1957.250000\n",
       "max      1960.000000\n",
       "Name: year, dtype: float64"
      ]
     },
     "execution_count": 13,
     "metadata": {},
     "output_type": "execute_result"
    }
   ],
   "source": [
    "df['year'].describe()"
   ]
  },
  {
   "cell_type": "code",
   "execution_count": 19,
   "metadata": {},
   "outputs": [
    {
     "data": {
      "text/plain": [
       "year  month      passengers\n",
       "1949  April      129           1\n",
       "      August     148           1\n",
       "1956  May        318           1\n",
       "      November   271           1\n",
       "      October    306           1\n",
       "      September  355           1\n",
       "1957  April      348           1\n",
       "      August     467           1\n",
       "      December   336           1\n",
       "      February   301           1\n",
       "      January    315           1\n",
       "      July       465           1\n",
       "      June       422           1\n",
       "      March      356           1\n",
       "      May        355           1\n",
       "      November   305           1\n",
       "      October    347           1\n",
       "1956  March      317           1\n",
       "      June       374           1\n",
       "      July       413           1\n",
       "1955  May        270           1\n",
       "      December   278           1\n",
       "      February   233           1\n",
       "      January    242           1\n",
       "      July       364           1\n",
       "      June       315           1\n",
       "      March      267           1\n",
       "      November   237           1\n",
       "1956  January    284           1\n",
       "1955  October    274           1\n",
       "      September  312           1\n",
       "1956  April      313           1\n",
       "      August     405           1\n",
       "      December   306           1\n",
       "      February   277           1\n",
       "1957  September  404           1\n",
       "1958  April      348           1\n",
       "      August     505           1\n",
       "1960  February   391           1\n",
       "1959  November   362           1\n",
       "      October    407           1\n",
       "      September  463           1\n",
       "1960  April      461           1\n",
       "      August     606           1\n",
       "      December   432           1\n",
       "      January    417           1\n",
       "1959  March      406           1\n",
       "1960  July       622           1\n",
       "      June       535           1\n",
       "      March      419           1\n",
       "      May        472           1\n",
       "      November   390           1\n",
       "      October    461           1\n",
       "1959  May        420           1\n",
       "      June       472           1\n",
       "1958  December   337           1\n",
       "      November   310           1\n",
       "      February   318           1\n",
       "      January    340           1\n",
       "      July       491           1\n",
       "      June       435           1\n",
       "      March      362           1\n",
       "      May        363           1\n",
       "      October    359           1\n",
       "1959  July       548           1\n",
       "1958  September  404           1\n",
       "1959  April      396           1\n",
       "      August     559           1\n",
       "      December   405           1\n",
       "      February   342           1\n",
       "      January    360           1\n",
       "1955  August     347           1\n",
       "      April      269           1\n",
       "1954  September  259           1\n",
       "1951  December   166           1\n",
       "1950  May        125           1\n",
       "      November   114           1\n",
       "      October    133           1\n",
       "      September  158           1\n",
       "1951  April      163           1\n",
       "      August     199           1\n",
       "      February   150           1\n",
       "1950  June       149           1\n",
       "1951  January    145           1\n",
       "      July       199           1\n",
       "      June       178           1\n",
       "      March      178           1\n",
       "      May        172           1\n",
       "      November   146           1\n",
       "1950  March      141           1\n",
       "      July       170           1\n",
       "1951  September  184           1\n",
       "1949  May        121           1\n",
       "      December   118           1\n",
       "      February   118           1\n",
       "      January    112           1\n",
       "      July       148           1\n",
       "      June       135           1\n",
       "      March      132           1\n",
       "      November   104           1\n",
       "1950  January    115           1\n",
       "1949  October    119           1\n",
       "      September  136           1\n",
       "1950  April      135           1\n",
       "      August     170           1\n",
       "      December   140           1\n",
       "      February   126           1\n",
       "1951  October    162           1\n",
       "1952  April      181           1\n",
       "1954  October    229           1\n",
       "      December   229           1\n",
       "1953  May        229           1\n",
       "      November   180           1\n",
       "      October    211           1\n",
       "      September  237           1\n",
       "1954  April      227           1\n",
       "      August     293           1\n",
       "      February   188           1\n",
       "1953  June       243           1\n",
       "1954  January    204           1\n",
       "      July       302           1\n",
       "      June       264           1\n",
       "      March      235           1\n",
       "      May        234           1\n",
       "      November   203           1\n",
       "1953  March      236           1\n",
       "      July       264           1\n",
       "1952  August     242           1\n",
       "      May        183           1\n",
       "      December   194           1\n",
       "      February   180           1\n",
       "      January    171           1\n",
       "      July       230           1\n",
       "      June       218           1\n",
       "      March      193           1\n",
       "      November   172           1\n",
       "1953  January    196           1\n",
       "1952  October    191           1\n",
       "      September  209           1\n",
       "1953  April      235           1\n",
       "      August     272           1\n",
       "      December   201           1\n",
       "      February   196           1\n",
       "1960  September  508           1\n",
       "dtype: int64"
      ]
     },
     "execution_count": 19,
     "metadata": {},
     "output_type": "execute_result"
    }
   ],
   "source": [
    "df.value_counts()"
   ]
  },
  {
   "cell_type": "code",
   "execution_count": 25,
   "metadata": {},
   "outputs": [
    {
     "name": "stdout",
     "output_type": "stream",
     "text": [
      "    year      month  passengers\n",
      "0   1949    January         112\n",
      "1   1949   February         118\n",
      "2   1949      March         132\n",
      "3   1949      April         129\n",
      "4   1949        May         121\n",
      "5   1949       June         135\n",
      "6   1949       July         148\n",
      "7   1949     August         148\n",
      "8   1949  September         136\n",
      "9   1949    October         119\n",
      "10  1949   November         104\n",
      "11  1949   December         118\n",
      "12  1950    January         115\n",
      "13  1950   February         126\n",
      "14  1950      March         141\n"
     ]
    }
   ],
   "source": [
    "primeras_15_observaciones=df.head(15)\n",
    "print(primeras_15_observaciones)"
   ]
  },
  {
   "cell_type": "code",
   "execution_count": 26,
   "metadata": {},
   "outputs": [
    {
     "name": "stdout",
     "output_type": "stream",
     "text": [
      "     year      month  passengers\n",
      "129  1959    October         407\n",
      "130  1959   November         362\n",
      "131  1959   December         405\n",
      "132  1960    January         417\n",
      "133  1960   February         391\n",
      "134  1960      March         419\n",
      "135  1960      April         461\n",
      "136  1960        May         472\n",
      "137  1960       June         535\n",
      "138  1960       July         622\n",
      "139  1960     August         606\n",
      "140  1960  September         508\n",
      "141  1960    October         461\n",
      "142  1960   November         390\n",
      "143  1960   December         432\n"
     ]
    }
   ],
   "source": [
    "ultimas_15_observaciones=df.tail(15)\n",
    "print(ultimas_15_observaciones)"
   ]
  },
  {
   "cell_type": "code",
   "execution_count": 30,
   "metadata": {},
   "outputs": [
    {
     "name": "stdout",
     "output_type": "stream",
     "text": [
      "280.2986111111111\n",
      "265.5\n",
      "119.54904153277148\n"
     ]
    }
   ],
   "source": [
    "print(np.mean(df[\"passengers\"]))\n",
    "print(np.median(df[\"passengers\"]))\n",
    "print(np.std(df[\"passengers\"]))"
   ]
  },
  {
   "cell_type": "code",
   "execution_count": 32,
   "metadata": {},
   "outputs": [
    {
     "name": "stdout",
     "output_type": "stream",
     "text": [
      "459.2\n",
      "432.0\n",
      "75.29426715671431\n",
      "126.8\n",
      "126.0\n",
      "12.681745410891462\n"
     ]
    }
   ],
   "source": [
    "print(np.mean(ultimas_15_observaciones[\"passengers\"]))\n",
    "print(np.median(ultimas_15_observaciones[\"passengers\"]))\n",
    "print(np.std(ultimas_15_observaciones[\"passengers\"]))\n",
    "print(np.mean(primeras_15_observaciones[\"passengers\"]))\n",
    "print(np.median(primeras_15_observaciones[\"passengers\"]))\n",
    "print(np.std(primeras_15_observaciones[\"passengers\"]))"
   ]
  }
 ],
 "metadata": {
  "kernelspec": {
   "display_name": "base",
   "language": "python",
   "name": "python3"
  },
  "language_info": {
   "codemirror_mode": {
    "name": "ipython",
    "version": 3
   },
   "file_extension": ".py",
   "mimetype": "text/x-python",
   "name": "python",
   "nbconvert_exporter": "python",
   "pygments_lexer": "ipython3",
   "version": "3.9.13"
  },
  "orig_nbformat": 4,
  "vscode": {
   "interpreter": {
    "hash": "27399c2e6482aedf46537f2171a3c2057501532d71ea0fd6e8be4005a90ab592"
   }
  }
 },
 "nbformat": 4,
 "nbformat_minor": 2
}
