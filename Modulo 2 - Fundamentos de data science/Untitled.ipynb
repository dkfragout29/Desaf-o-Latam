{
  "metadata": {
    "language_info": {
      "codemirror_mode": {
        "name": "python",
        "version": 3
      },
      "file_extension": ".py",
      "mimetype": "text/x-python",
      "name": "python",
      "nbconvert_exporter": "python",
      "pygments_lexer": "ipython3",
      "version": "3.8"
    },
    "kernelspec": {
      "name": "python",
      "display_name": "Python (Pyodide)",
      "language": "python"
    }
  },
  "nbformat_minor": 4,
  "nbformat": 4,
  "cells": [
    {
      "cell_type": "code",
      "source": "import pandas as pd\nimport numpy as np\nimport scipy.stats as stats",
      "metadata": {
        "trusted": true
      },
      "execution_count": 3,
      "outputs": []
    },
    {
      "cell_type": "code",
      "source": "print('hola mundo')",
      "metadata": {
        "trusted": true
      },
      "execution_count": 1,
      "outputs": [
        {
          "name": "stdout",
          "text": "hola mundo\n",
          "output_type": "stream"
        }
      ]
    },
    {
      "cell_type": "code",
      "source": "print('Hola mundo, esta es mi primera incursión en python')",
      "metadata": {
        "trusted": true
      },
      "execution_count": 2,
      "outputs": [
        {
          "name": "stdout",
          "text": "Hola mundo, esta es mi primera incursión en python\n",
          "output_type": "stream"
        }
      ]
    },
    {
      "cell_type": "code",
      "source": "df['Nombre']",
      "metadata": {
        "trusted": true
      },
      "execution_count": 4,
      "outputs": [
        {
          "ename": "<class 'NameError'>",
          "evalue": "name 'df' is not defined",
          "traceback": [
            "\u001b[0;31m---------------------------------------------------------------------------\u001b[0m",
            "\u001b[0;31mNameError\u001b[0m                                 Traceback (most recent call last)",
            "Cell \u001b[0;32mIn[4], line 1\u001b[0m\n\u001b[0;32m----> 1\u001b[0m \u001b[43mdf\u001b[49m[\u001b[38;5;124m'\u001b[39m\u001b[38;5;124mNombre\u001b[39m\u001b[38;5;124m'\u001b[39m]\n",
            "\u001b[0;31mNameError\u001b[0m: name 'df' is not defined"
          ],
          "output_type": "error"
        }
      ]
    },
    {
      "cell_type": "code",
      "source": "df.head()",
      "metadata": {
        "trusted": true
      },
      "execution_count": 5,
      "outputs": [
        {
          "ename": "<class 'NameError'>",
          "evalue": "name 'df' is not defined",
          "traceback": [
            "\u001b[0;31m---------------------------------------------------------------------------\u001b[0m",
            "\u001b[0;31mNameError\u001b[0m                                 Traceback (most recent call last)",
            "Cell \u001b[0;32mIn[5], line 1\u001b[0m\n\u001b[0;32m----> 1\u001b[0m \u001b[43mdf\u001b[49m\u001b[38;5;241m.\u001b[39mhead()\n",
            "\u001b[0;31mNameError\u001b[0m: name 'df' is not defined"
          ],
          "output_type": "error"
        }
      ]
    },
    {
      "cell_type": "code",
      "source": "'''\nNombre='Mauricio'\nEdad='29'\nActividades_favoritas=['fabricar cerveza artesanal', 'jugar volleyball', 'compartir con amigos']\nMascota='Noa'\n'''",
      "metadata": {
        "trusted": true
      },
      "execution_count": 9,
      "outputs": []
    },
    {
      "cell_type": "code",
      "source": "print(Nombre)",
      "metadata": {
        "trusted": true
      },
      "execution_count": 7,
      "outputs": [
        {
          "name": "stdout",
          "text": "Mauricio\n",
          "output_type": "stream"
        }
      ]
    },
    {
      "cell_type": "code",
      "source": "print(f'Su nombre es {Nombre}')\nprint(f'Su edad es de {Edad}')\nprint(f'Una de sus actividades favoritas corresponde a {Actividades_favoritas[1]}')\nprint(f'Tiene mascota y su nombre es {Mascota}')",
      "metadata": {
        "trusted": true
      },
      "execution_count": 10,
      "outputs": [
        {
          "name": "stdout",
          "text": "Su nombre es Mauricio\nSu edad es de 29\nUna de sus actividades favoritas corresponde a jugar volleyball\nTiene mascota y su nombre es Noa\n",
          "output_type": "stream"
        }
      ]
    },
    {
      "cell_type": "code",
      "source": "Nombre=['Mauricio', 'Marcelo', 'Matias', 'Fabian']\nEdad=['29', '32', '36', '24']\nActividades_favoritas=['jugar volleyball', 'estar tranquilo en casa con un buen café', 'experimentar con un nuevo juego', 'comerse unos buenos huevardos temprano']\nMascota=['Noa', 'Panchita', 'Loca', 'Gatitos']",
      "metadata": {
        "trusted": true
      },
      "execution_count": 12,
      "outputs": []
    },
    {
      "cell_type": "code",
      "source": "print(f'Su nombre es {Nombre[1]}')\nprint(f'Su edad es de {Edad[1]}')\nprint(f'Su actividad favorita corresponde a {Actividades_favoritas[1]}')\nprint(f'Tiene mascota y su nombre es {Mascota[1]}')",
      "metadata": {
        "trusted": true
      },
      "execution_count": 14,
      "outputs": [
        {
          "name": "stdout",
          "text": "Su nombre es Marcelo\nSu edad es de 32\nSu actividad favorita corresponde a estar tranquilo en casa con un buen café\nTiene mascota y su nombre es Panchita\n",
          "output_type": "stream"
        }
      ]
    },
    {
      "cell_type": "code",
      "source": "#a corregir print('Estaba la pájara pinta sentada en el verde limón)\nprint('Estaba la pájara pinta sentada en el verde limón')\n#a corregir print('Mi nombre es' name 'y tengo' edad, 'anhos')\nprint(f'Mi nombre es {Nombre[0]} y tengo {Edad[0]} anhos')\n",
      "metadata": {
        "trusted": true
      },
      "execution_count": 15,
      "outputs": [
        {
          "name": "stdout",
          "text": "Estaba la pájara pinta sentada en el verde limón\nMi nombre es Mauricio y tengo 29 anhos\n",
          "output_type": "stream"
        }
      ]
    },
    {
      "cell_type": "code",
      "source": "#a corregir print('Ornitorrinco'+45)\nprint('Ornitorrinco'+'45')",
      "metadata": {
        "trusted": true
      },
      "execution_count": 17,
      "outputs": [
        {
          "name": "stdout",
          "text": "Ornitorrinco45\n",
          "output_type": "stream"
        }
      ]
    },
    {
      "cell_type": "code",
      "source": "",
      "metadata": {},
      "execution_count": null,
      "outputs": []
    }
  ]
}